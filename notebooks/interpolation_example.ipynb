{
 "cells": [
  {
   "cell_type": "code",
   "execution_count": null,
   "id": "6781df9e-ad96-4ff4-9142-97cabffb5e8a",
   "metadata": {},
   "outputs": [],
   "source": [
    "from dl_toolkit.utils.interpolation import InterpolationMode, \\\n",
    "    Interpolator, Direction, MultiInterpolator"
   ]
  },
  {
   "cell_type": "code",
   "execution_count": null,
   "id": "1393669f-bca1-4cb9-960e-a24d6c44226f",
   "metadata": {},
   "outputs": [],
   "source": [
    "import matplotlib.pyplot as plt"
   ]
  },
  {
   "cell_type": "code",
   "execution_count": null,
   "id": "7094b3b4-7bdb-4c0e-b41b-94696a939906",
   "metadata": {},
   "outputs": [],
   "source": [
    "interpolator1 = Interpolator(1000, direction=Direction.UP)\n",
    "interpolator2 = Interpolator(5000, method=None, direction=Direction.CONSTANT_1)\n",
    "interpolator3 = Interpolator(2000, method=InterpolationMode.EASE_IN_CIRC, direction=Direction.DOWN)"
   ]
  },
  {
   "cell_type": "code",
   "execution_count": null,
   "id": "349636a8-9ee2-4174-b688-263245e07fb6",
   "metadata": {},
   "outputs": [],
   "source": [
    "interpolator = MultiInterpolator([interpolator1, interpolator2, interpolator3])"
   ]
  },
  {
   "cell_type": "code",
   "execution_count": null,
   "id": "3e150867-be88-427d-a445-8ea255154f9f",
   "metadata": {},
   "outputs": [],
   "source": [
    "steps = 10000\n",
    "x = list(range(steps))\n",
    "y = [interpolator(el) for el in x]\n"
   ]
  },
  {
   "cell_type": "code",
   "execution_count": null,
   "id": "0433d3e9-ba63-422e-adfc-e8f8b235059c",
   "metadata": {},
   "outputs": [],
   "source": [
    "plt.plot(x, y)"
   ]
  },
  {
   "cell_type": "code",
   "execution_count": null,
   "id": "7b4785f4-cc13-449f-9997-db8fd4a06dd0",
   "metadata": {},
   "outputs": [],
   "source": [
    "print(interpolator)"
   ]
  },
  {
   "cell_type": "code",
   "execution_count": null,
   "id": "4b104c57-0a1f-415c-a087-471d0f8e23e1",
   "metadata": {},
   "outputs": [],
   "source": []
  }
 ],
 "metadata": {
  "kernelspec": {
   "display_name": "Python 3 (ipykernel)",
   "language": "python",
   "name": "python3"
  },
  "language_info": {
   "codemirror_mode": {
    "name": "ipython",
    "version": 3
   },
   "file_extension": ".py",
   "mimetype": "text/x-python",
   "name": "python",
   "nbconvert_exporter": "python",
   "pygments_lexer": "ipython3",
   "version": "3.10.14"
  }
 },
 "nbformat": 4,
 "nbformat_minor": 5
}
